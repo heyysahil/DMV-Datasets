{
 "cells": [
  {
   "cell_type": "markdown",
   "id": "08196bce",
   "metadata": {},
   "source": [
    "# __Title :  Analyzing Weather Data from OpenWeatherMap API__"
   ]
  },
  {
   "cell_type": "code",
   "execution_count": 2,
   "id": "7c1b8bfe",
   "metadata": {},
   "outputs": [],
   "source": [
    "import requests\n",
    "import pandas as pd\n",
    "import matplotlib.pyplot as plt\n",
    "import folium"
   ]
  },
  {
   "cell_type": "markdown",
   "id": "ff2005d5",
   "metadata": {},
   "source": [
    "### __Task 1:  Register and obtain API key from OpenWeatherMap.__"
   ]
  },
  {
   "cell_type": "code",
   "execution_count": 3,
   "id": "56592be6",
   "metadata": {},
   "outputs": [],
   "source": [
    "# Step 1: Register and obtain API key from OpenWeatherMap\n",
    "api_key = \"b5d5f6e620edb08c92302ba730963c53\""
   ]
  },
  {
   "cell_type": "markdown",
   "id": "e612eefd",
   "metadata": {},
   "source": [
    "### __Task 2:  Interact with the OpenWeatherMap API using the API key to retrieve weather data for a specific location.__\n"
   ]
  },
  {
   "cell_type": "code",
   "execution_count": 4,
   "id": "c941a422",
   "metadata": {},
   "outputs": [
    {
     "name": "stdout",
     "output_type": "stream",
     "text": [
      "Weather forecast for Nashik:\n",
      "Date & Time: 2024-10-08 06:00:00, Temp: 28.88°C, Weather: clear sky\n",
      "Date & Time: 2024-10-08 09:00:00, Temp: 29.49°C, Weather: clear sky\n",
      "Date & Time: 2024-10-08 12:00:00, Temp: 28.74°C, Weather: few clouds\n",
      "Date & Time: 2024-10-08 15:00:00, Temp: 25.86°C, Weather: overcast clouds\n",
      "Date & Time: 2024-10-08 18:00:00, Temp: 25.3°C, Weather: overcast clouds\n",
      "Date & Time: 2024-10-08 21:00:00, Temp: 23.86°C, Weather: overcast clouds\n",
      "Date & Time: 2024-10-09 00:00:00, Temp: 23.03°C, Weather: overcast clouds\n",
      "Date & Time: 2024-10-09 03:00:00, Temp: 25.54°C, Weather: overcast clouds\n",
      "Date & Time: 2024-10-09 06:00:00, Temp: 28.49°C, Weather: light rain\n",
      "Date & Time: 2024-10-09 09:00:00, Temp: 29.19°C, Weather: light rain\n",
      "Date & Time: 2024-10-09 12:00:00, Temp: 24.99°C, Weather: light rain\n",
      "Date & Time: 2024-10-09 15:00:00, Temp: 23.7°C, Weather: light rain\n",
      "Date & Time: 2024-10-09 18:00:00, Temp: 23.94°C, Weather: overcast clouds\n",
      "Date & Time: 2024-10-09 21:00:00, Temp: 23.85°C, Weather: light rain\n",
      "Date & Time: 2024-10-10 00:00:00, Temp: 22.51°C, Weather: moderate rain\n",
      "Date & Time: 2024-10-10 03:00:00, Temp: 23.06°C, Weather: light rain\n",
      "Date & Time: 2024-10-10 06:00:00, Temp: 25.43°C, Weather: overcast clouds\n",
      "Date & Time: 2024-10-10 09:00:00, Temp: 24.57°C, Weather: overcast clouds\n",
      "Date & Time: 2024-10-10 12:00:00, Temp: 24.65°C, Weather: overcast clouds\n",
      "Date & Time: 2024-10-10 15:00:00, Temp: 23.33°C, Weather: light rain\n",
      "Date & Time: 2024-10-10 18:00:00, Temp: 22.51°C, Weather: light rain\n",
      "Date & Time: 2024-10-10 21:00:00, Temp: 21.78°C, Weather: overcast clouds\n",
      "Date & Time: 2024-10-11 00:00:00, Temp: 21.38°C, Weather: light rain\n",
      "Date & Time: 2024-10-11 03:00:00, Temp: 22.56°C, Weather: light rain\n",
      "Date & Time: 2024-10-11 06:00:00, Temp: 28.25°C, Weather: broken clouds\n",
      "Date & Time: 2024-10-11 09:00:00, Temp: 30.42°C, Weather: few clouds\n",
      "Date & Time: 2024-10-11 12:00:00, Temp: 27.39°C, Weather: scattered clouds\n",
      "Date & Time: 2024-10-11 15:00:00, Temp: 25.17°C, Weather: light rain\n",
      "Date & Time: 2024-10-11 18:00:00, Temp: 24.4°C, Weather: light rain\n",
      "Date & Time: 2024-10-11 21:00:00, Temp: 23.58°C, Weather: light rain\n",
      "Date & Time: 2024-10-12 00:00:00, Temp: 23.31°C, Weather: overcast clouds\n",
      "Date & Time: 2024-10-12 03:00:00, Temp: 23.71°C, Weather: overcast clouds\n",
      "Date & Time: 2024-10-12 06:00:00, Temp: 27.4°C, Weather: overcast clouds\n",
      "Date & Time: 2024-10-12 09:00:00, Temp: 27.8°C, Weather: broken clouds\n",
      "Date & Time: 2024-10-12 12:00:00, Temp: 26.53°C, Weather: light rain\n",
      "Date & Time: 2024-10-12 15:00:00, Temp: 24.18°C, Weather: light rain\n",
      "Date & Time: 2024-10-12 18:00:00, Temp: 22.76°C, Weather: light rain\n",
      "Date & Time: 2024-10-12 21:00:00, Temp: 22.5°C, Weather: light rain\n",
      "Date & Time: 2024-10-13 00:00:00, Temp: 22.14°C, Weather: overcast clouds\n",
      "Date & Time: 2024-10-13 03:00:00, Temp: 24.54°C, Weather: broken clouds\n"
     ]
    }
   ],
   "source": [
    "base_url = \"http://api.openweathermap.org/data/2.5/forecast\"\n",
    "city_name = \"Nashik\"\n",
    "params = {\n",
    " \"q\": city_name,\n",
    " \"appid\": api_key,\n",
    " \"units\": \"metric\"\n",
    "}\n",
    "response = requests.get(base_url, params=params)\n",
    "data = response.json()\n",
    "\n",
    "# Check if the response is successful\n",
    "if response.status_code == 200:\n",
    "    # Print some relevant information\n",
    "    print(f\"Weather forecast for {city_name}:\")\n",
    "    for forecast in data['list']:\n",
    "        dt = forecast['dt_txt']\n",
    "        temp = forecast['main']['temp']\n",
    "        description = forecast['weather'][0]['description']\n",
    "        print(f\"Date & Time: {dt}, Temp: {temp}°C, Weather: {description}\")\n",
    "else:\n",
    "    print(f\"Error: {data['message']}\")"
   ]
  },
  {
   "cell_type": "markdown",
   "id": "7ad15a37",
   "metadata": {},
   "source": [
    "### __Task 3: Extract relevant weather attributes such as temperature, humidity, wind speed, and precipitation from the API response.__"
   ]
  },
  {
   "cell_type": "code",
   "execution_count": 5,
   "id": "f245e0de",
   "metadata": {},
   "outputs": [],
   "source": [
    "# Extract relevant weather attributes and timestamps\n",
    "weather_data = data[\"list\"]\n",
    "timestamps = [entry[\"dt\"] for entry in weather_data]\n",
    "temperatures = [entry[\"main\"][\"temp\"] for entry in weather_data]\n",
    "humidity = [entry[\"main\"][\"humidity\"] for entry in weather_data]\n",
    "wind_speed = [entry[\"wind\"][\"speed\"] for entry in weather_data]\n",
    "weather_description = [item['weather'][0]['description'] for item in weather_data]"
   ]
  },
  {
   "cell_type": "markdown",
   "id": "00db56a4",
   "metadata": {},
   "source": [
    "### __Task 4: Clean and preprocess the retrieved data, handling missing values or inconsistent formats.__\n"
   ]
  },
  {
   "cell_type": "code",
   "execution_count": 6,
   "id": "733de2ea",
   "metadata": {},
   "outputs": [],
   "source": [
    "# Convert timestamps to pandas datetime objects\n",
    "datetime_objects = [pd.to_datetime(timestamp, unit=\"s\") for timestamp in timestamps]"
   ]
  },
  {
   "cell_type": "code",
   "execution_count": 7,
   "id": "bf96fa88",
   "metadata": {},
   "outputs": [],
   "source": [
    "# Create a pandas DataFrame with the extracted weather data\n",
    "weather_df = pd.DataFrame({\n",
    " 'Timestamp': timestamps,\n",
    " \"Datetime\": datetime_objects,\n",
    " 'Temperature': temperatures,\n",
    " 'humidity': humidity,\n",
    " 'wind_speed': wind_speed,\n",
    " 'weather_description': weather_description,\n",
    "})"
   ]
  },
  {
   "cell_type": "code",
   "execution_count": 8,
   "id": "db04c121",
   "metadata": {},
   "outputs": [],
   "source": [
    "# Convert the \"Datetime\" column to a DatetimeIndex\n",
    "weather_df.set_index(\"Datetime\", inplace=True)\n"
   ]
  },
  {
   "cell_type": "code",
   "execution_count": 9,
   "id": "1c7fbdeb",
   "metadata": {},
   "outputs": [],
   "source": [
    "# Create a pandas DataFrame with the extracted weather data\n",
    "weather_df = pd.DataFrame({\n",
    " 'Timestamp': timestamps,\n",
    " \"Datetime\": datetime_objects,\n",
    " 'Temperature': temperatures,\n",
    " 'humidity': humidity,\n",
    " 'wind_speed': wind_speed,\n",
    " 'weather_description': weather_description,\n",
    "})"
   ]
  },
  {
   "cell_type": "code",
   "execution_count": 10,
   "id": "77405732",
   "metadata": {},
   "outputs": [],
   "source": [
    "# Convert the \"Datetime\" column to a DatetimeIndex\n",
    "weather_df.set_index(\"Datetime\", inplace=True)\n"
   ]
  },
  {
   "cell_type": "code",
   "execution_count": 36,
   "id": "99775778",
   "metadata": {},
   "outputs": [
    {
     "data": {
      "text/html": [
       "<div>\n",
       "<style scoped>\n",
       "    .dataframe tbody tr th:only-of-type {\n",
       "        vertical-align: middle;\n",
       "    }\n",
       "\n",
       "    .dataframe tbody tr th {\n",
       "        vertical-align: top;\n",
       "    }\n",
       "\n",
       "    .dataframe thead th {\n",
       "        text-align: right;\n",
       "    }\n",
       "</style>\n",
       "<table border=\"1\" class=\"dataframe\">\n",
       "  <thead>\n",
       "    <tr style=\"text-align: right;\">\n",
       "      <th></th>\n",
       "      <th>Timestamp</th>\n",
       "      <th>Temperature</th>\n",
       "      <th>humidity</th>\n",
       "      <th>wind_speed</th>\n",
       "      <th>weather_description</th>\n",
       "    </tr>\n",
       "    <tr>\n",
       "      <th>Datetime</th>\n",
       "      <th></th>\n",
       "      <th></th>\n",
       "      <th></th>\n",
       "      <th></th>\n",
       "      <th></th>\n",
       "    </tr>\n",
       "  </thead>\n",
       "  <tbody>\n",
       "    <tr>\n",
       "      <th>2024-09-25 12:00:00</th>\n",
       "      <td>1727265600</td>\n",
       "      <td>17.11</td>\n",
       "      <td>73</td>\n",
       "      <td>4.66</td>\n",
       "      <td>overcast clouds</td>\n",
       "    </tr>\n",
       "    <tr>\n",
       "      <th>2024-09-25 15:00:00</th>\n",
       "      <td>1727276400</td>\n",
       "      <td>18.77</td>\n",
       "      <td>67</td>\n",
       "      <td>4.69</td>\n",
       "      <td>overcast clouds</td>\n",
       "    </tr>\n",
       "    <tr>\n",
       "      <th>2024-09-25 18:00:00</th>\n",
       "      <td>1727287200</td>\n",
       "      <td>20.53</td>\n",
       "      <td>62</td>\n",
       "      <td>5.13</td>\n",
       "      <td>overcast clouds</td>\n",
       "    </tr>\n",
       "    <tr>\n",
       "      <th>2024-09-25 21:00:00</th>\n",
       "      <td>1727298000</td>\n",
       "      <td>19.73</td>\n",
       "      <td>71</td>\n",
       "      <td>5.35</td>\n",
       "      <td>light rain</td>\n",
       "    </tr>\n",
       "    <tr>\n",
       "      <th>2024-09-26 00:00:00</th>\n",
       "      <td>1727308800</td>\n",
       "      <td>19.17</td>\n",
       "      <td>78</td>\n",
       "      <td>5.54</td>\n",
       "      <td>light rain</td>\n",
       "    </tr>\n",
       "    <tr>\n",
       "      <th>2024-09-26 03:00:00</th>\n",
       "      <td>1727319600</td>\n",
       "      <td>19.36</td>\n",
       "      <td>80</td>\n",
       "      <td>5.54</td>\n",
       "      <td>overcast clouds</td>\n",
       "    </tr>\n",
       "    <tr>\n",
       "      <th>2024-09-26 06:00:00</th>\n",
       "      <td>1727330400</td>\n",
       "      <td>19.70</td>\n",
       "      <td>83</td>\n",
       "      <td>5.14</td>\n",
       "      <td>light rain</td>\n",
       "    </tr>\n",
       "    <tr>\n",
       "      <th>2024-09-26 09:00:00</th>\n",
       "      <td>1727341200</td>\n",
       "      <td>20.01</td>\n",
       "      <td>85</td>\n",
       "      <td>4.54</td>\n",
       "      <td>overcast clouds</td>\n",
       "    </tr>\n",
       "    <tr>\n",
       "      <th>2024-09-26 12:00:00</th>\n",
       "      <td>1727352000</td>\n",
       "      <td>20.46</td>\n",
       "      <td>85</td>\n",
       "      <td>5.04</td>\n",
       "      <td>overcast clouds</td>\n",
       "    </tr>\n",
       "    <tr>\n",
       "      <th>2024-09-26 15:00:00</th>\n",
       "      <td>1727362800</td>\n",
       "      <td>21.37</td>\n",
       "      <td>84</td>\n",
       "      <td>5.49</td>\n",
       "      <td>light rain</td>\n",
       "    </tr>\n",
       "    <tr>\n",
       "      <th>2024-09-26 18:00:00</th>\n",
       "      <td>1727373600</td>\n",
       "      <td>23.61</td>\n",
       "      <td>79</td>\n",
       "      <td>5.73</td>\n",
       "      <td>light rain</td>\n",
       "    </tr>\n",
       "    <tr>\n",
       "      <th>2024-09-26 21:00:00</th>\n",
       "      <td>1727384400</td>\n",
       "      <td>23.56</td>\n",
       "      <td>82</td>\n",
       "      <td>4.15</td>\n",
       "      <td>light rain</td>\n",
       "    </tr>\n",
       "    <tr>\n",
       "      <th>2024-09-27 00:00:00</th>\n",
       "      <td>1727395200</td>\n",
       "      <td>22.63</td>\n",
       "      <td>88</td>\n",
       "      <td>4.48</td>\n",
       "      <td>light rain</td>\n",
       "    </tr>\n",
       "    <tr>\n",
       "      <th>2024-09-27 03:00:00</th>\n",
       "      <td>1727406000</td>\n",
       "      <td>21.56</td>\n",
       "      <td>94</td>\n",
       "      <td>3.28</td>\n",
       "      <td>light rain</td>\n",
       "    </tr>\n",
       "    <tr>\n",
       "      <th>2024-09-27 06:00:00</th>\n",
       "      <td>1727416800</td>\n",
       "      <td>20.89</td>\n",
       "      <td>94</td>\n",
       "      <td>1.95</td>\n",
       "      <td>light rain</td>\n",
       "    </tr>\n",
       "    <tr>\n",
       "      <th>2024-09-27 09:00:00</th>\n",
       "      <td>1727427600</td>\n",
       "      <td>20.30</td>\n",
       "      <td>91</td>\n",
       "      <td>3.45</td>\n",
       "      <td>overcast clouds</td>\n",
       "    </tr>\n",
       "    <tr>\n",
       "      <th>2024-09-27 12:00:00</th>\n",
       "      <td>1727438400</td>\n",
       "      <td>19.76</td>\n",
       "      <td>86</td>\n",
       "      <td>3.03</td>\n",
       "      <td>overcast clouds</td>\n",
       "    </tr>\n",
       "    <tr>\n",
       "      <th>2024-09-27 15:00:00</th>\n",
       "      <td>1727449200</td>\n",
       "      <td>21.37</td>\n",
       "      <td>67</td>\n",
       "      <td>2.60</td>\n",
       "      <td>overcast clouds</td>\n",
       "    </tr>\n",
       "    <tr>\n",
       "      <th>2024-09-27 18:00:00</th>\n",
       "      <td>1727460000</td>\n",
       "      <td>22.35</td>\n",
       "      <td>57</td>\n",
       "      <td>1.16</td>\n",
       "      <td>overcast clouds</td>\n",
       "    </tr>\n",
       "    <tr>\n",
       "      <th>2024-09-27 21:00:00</th>\n",
       "      <td>1727470800</td>\n",
       "      <td>22.78</td>\n",
       "      <td>55</td>\n",
       "      <td>1.78</td>\n",
       "      <td>overcast clouds</td>\n",
       "    </tr>\n",
       "    <tr>\n",
       "      <th>2024-09-28 00:00:00</th>\n",
       "      <td>1727481600</td>\n",
       "      <td>21.88</td>\n",
       "      <td>57</td>\n",
       "      <td>1.95</td>\n",
       "      <td>overcast clouds</td>\n",
       "    </tr>\n",
       "    <tr>\n",
       "      <th>2024-09-28 03:00:00</th>\n",
       "      <td>1727492400</td>\n",
       "      <td>21.41</td>\n",
       "      <td>58</td>\n",
       "      <td>1.79</td>\n",
       "      <td>overcast clouds</td>\n",
       "    </tr>\n",
       "    <tr>\n",
       "      <th>2024-09-28 06:00:00</th>\n",
       "      <td>1727503200</td>\n",
       "      <td>20.99</td>\n",
       "      <td>60</td>\n",
       "      <td>2.04</td>\n",
       "      <td>overcast clouds</td>\n",
       "    </tr>\n",
       "    <tr>\n",
       "      <th>2024-09-28 09:00:00</th>\n",
       "      <td>1727514000</td>\n",
       "      <td>20.40</td>\n",
       "      <td>63</td>\n",
       "      <td>3.20</td>\n",
       "      <td>light rain</td>\n",
       "    </tr>\n",
       "    <tr>\n",
       "      <th>2024-09-28 12:00:00</th>\n",
       "      <td>1727524800</td>\n",
       "      <td>20.45</td>\n",
       "      <td>58</td>\n",
       "      <td>4.03</td>\n",
       "      <td>overcast clouds</td>\n",
       "    </tr>\n",
       "    <tr>\n",
       "      <th>2024-09-28 15:00:00</th>\n",
       "      <td>1727535600</td>\n",
       "      <td>21.73</td>\n",
       "      <td>56</td>\n",
       "      <td>4.52</td>\n",
       "      <td>overcast clouds</td>\n",
       "    </tr>\n",
       "    <tr>\n",
       "      <th>2024-09-28 18:00:00</th>\n",
       "      <td>1727546400</td>\n",
       "      <td>22.02</td>\n",
       "      <td>55</td>\n",
       "      <td>3.61</td>\n",
       "      <td>overcast clouds</td>\n",
       "    </tr>\n",
       "    <tr>\n",
       "      <th>2024-09-28 21:00:00</th>\n",
       "      <td>1727557200</td>\n",
       "      <td>21.39</td>\n",
       "      <td>55</td>\n",
       "      <td>3.81</td>\n",
       "      <td>overcast clouds</td>\n",
       "    </tr>\n",
       "    <tr>\n",
       "      <th>2024-09-29 00:00:00</th>\n",
       "      <td>1727568000</td>\n",
       "      <td>20.55</td>\n",
       "      <td>58</td>\n",
       "      <td>3.94</td>\n",
       "      <td>overcast clouds</td>\n",
       "    </tr>\n",
       "    <tr>\n",
       "      <th>2024-09-29 03:00:00</th>\n",
       "      <td>1727578800</td>\n",
       "      <td>19.79</td>\n",
       "      <td>65</td>\n",
       "      <td>4.79</td>\n",
       "      <td>overcast clouds</td>\n",
       "    </tr>\n",
       "    <tr>\n",
       "      <th>2024-09-29 06:00:00</th>\n",
       "      <td>1727589600</td>\n",
       "      <td>18.89</td>\n",
       "      <td>69</td>\n",
       "      <td>4.80</td>\n",
       "      <td>overcast clouds</td>\n",
       "    </tr>\n",
       "    <tr>\n",
       "      <th>2024-09-29 09:00:00</th>\n",
       "      <td>1727600400</td>\n",
       "      <td>18.16</td>\n",
       "      <td>70</td>\n",
       "      <td>5.01</td>\n",
       "      <td>overcast clouds</td>\n",
       "    </tr>\n",
       "    <tr>\n",
       "      <th>2024-09-29 12:00:00</th>\n",
       "      <td>1727611200</td>\n",
       "      <td>17.62</td>\n",
       "      <td>72</td>\n",
       "      <td>5.23</td>\n",
       "      <td>overcast clouds</td>\n",
       "    </tr>\n",
       "    <tr>\n",
       "      <th>2024-09-29 15:00:00</th>\n",
       "      <td>1727622000</td>\n",
       "      <td>20.24</td>\n",
       "      <td>54</td>\n",
       "      <td>5.76</td>\n",
       "      <td>overcast clouds</td>\n",
       "    </tr>\n",
       "    <tr>\n",
       "      <th>2024-09-29 18:00:00</th>\n",
       "      <td>1727632800</td>\n",
       "      <td>21.41</td>\n",
       "      <td>49</td>\n",
       "      <td>5.06</td>\n",
       "      <td>overcast clouds</td>\n",
       "    </tr>\n",
       "    <tr>\n",
       "      <th>2024-09-29 21:00:00</th>\n",
       "      <td>1727643600</td>\n",
       "      <td>21.85</td>\n",
       "      <td>48</td>\n",
       "      <td>3.78</td>\n",
       "      <td>overcast clouds</td>\n",
       "    </tr>\n",
       "    <tr>\n",
       "      <th>2024-09-30 00:00:00</th>\n",
       "      <td>1727654400</td>\n",
       "      <td>20.49</td>\n",
       "      <td>58</td>\n",
       "      <td>3.67</td>\n",
       "      <td>overcast clouds</td>\n",
       "    </tr>\n",
       "    <tr>\n",
       "      <th>2024-09-30 03:00:00</th>\n",
       "      <td>1727665200</td>\n",
       "      <td>19.22</td>\n",
       "      <td>64</td>\n",
       "      <td>3.69</td>\n",
       "      <td>overcast clouds</td>\n",
       "    </tr>\n",
       "    <tr>\n",
       "      <th>2024-09-30 06:00:00</th>\n",
       "      <td>1727676000</td>\n",
       "      <td>18.35</td>\n",
       "      <td>73</td>\n",
       "      <td>3.37</td>\n",
       "      <td>overcast clouds</td>\n",
       "    </tr>\n",
       "    <tr>\n",
       "      <th>2024-09-30 09:00:00</th>\n",
       "      <td>1727686800</td>\n",
       "      <td>17.71</td>\n",
       "      <td>78</td>\n",
       "      <td>3.05</td>\n",
       "      <td>overcast clouds</td>\n",
       "    </tr>\n",
       "  </tbody>\n",
       "</table>\n",
       "</div>"
      ],
      "text/plain": [
       "                      Timestamp  Temperature  humidity  wind_speed  \\\n",
       "Datetime                                                             \n",
       "2024-09-25 12:00:00  1727265600        17.11        73        4.66   \n",
       "2024-09-25 15:00:00  1727276400        18.77        67        4.69   \n",
       "2024-09-25 18:00:00  1727287200        20.53        62        5.13   \n",
       "2024-09-25 21:00:00  1727298000        19.73        71        5.35   \n",
       "2024-09-26 00:00:00  1727308800        19.17        78        5.54   \n",
       "2024-09-26 03:00:00  1727319600        19.36        80        5.54   \n",
       "2024-09-26 06:00:00  1727330400        19.70        83        5.14   \n",
       "2024-09-26 09:00:00  1727341200        20.01        85        4.54   \n",
       "2024-09-26 12:00:00  1727352000        20.46        85        5.04   \n",
       "2024-09-26 15:00:00  1727362800        21.37        84        5.49   \n",
       "2024-09-26 18:00:00  1727373600        23.61        79        5.73   \n",
       "2024-09-26 21:00:00  1727384400        23.56        82        4.15   \n",
       "2024-09-27 00:00:00  1727395200        22.63        88        4.48   \n",
       "2024-09-27 03:00:00  1727406000        21.56        94        3.28   \n",
       "2024-09-27 06:00:00  1727416800        20.89        94        1.95   \n",
       "2024-09-27 09:00:00  1727427600        20.30        91        3.45   \n",
       "2024-09-27 12:00:00  1727438400        19.76        86        3.03   \n",
       "2024-09-27 15:00:00  1727449200        21.37        67        2.60   \n",
       "2024-09-27 18:00:00  1727460000        22.35        57        1.16   \n",
       "2024-09-27 21:00:00  1727470800        22.78        55        1.78   \n",
       "2024-09-28 00:00:00  1727481600        21.88        57        1.95   \n",
       "2024-09-28 03:00:00  1727492400        21.41        58        1.79   \n",
       "2024-09-28 06:00:00  1727503200        20.99        60        2.04   \n",
       "2024-09-28 09:00:00  1727514000        20.40        63        3.20   \n",
       "2024-09-28 12:00:00  1727524800        20.45        58        4.03   \n",
       "2024-09-28 15:00:00  1727535600        21.73        56        4.52   \n",
       "2024-09-28 18:00:00  1727546400        22.02        55        3.61   \n",
       "2024-09-28 21:00:00  1727557200        21.39        55        3.81   \n",
       "2024-09-29 00:00:00  1727568000        20.55        58        3.94   \n",
       "2024-09-29 03:00:00  1727578800        19.79        65        4.79   \n",
       "2024-09-29 06:00:00  1727589600        18.89        69        4.80   \n",
       "2024-09-29 09:00:00  1727600400        18.16        70        5.01   \n",
       "2024-09-29 12:00:00  1727611200        17.62        72        5.23   \n",
       "2024-09-29 15:00:00  1727622000        20.24        54        5.76   \n",
       "2024-09-29 18:00:00  1727632800        21.41        49        5.06   \n",
       "2024-09-29 21:00:00  1727643600        21.85        48        3.78   \n",
       "2024-09-30 00:00:00  1727654400        20.49        58        3.67   \n",
       "2024-09-30 03:00:00  1727665200        19.22        64        3.69   \n",
       "2024-09-30 06:00:00  1727676000        18.35        73        3.37   \n",
       "2024-09-30 09:00:00  1727686800        17.71        78        3.05   \n",
       "\n",
       "                    weather_description  \n",
       "Datetime                                 \n",
       "2024-09-25 12:00:00     overcast clouds  \n",
       "2024-09-25 15:00:00     overcast clouds  \n",
       "2024-09-25 18:00:00     overcast clouds  \n",
       "2024-09-25 21:00:00          light rain  \n",
       "2024-09-26 00:00:00          light rain  \n",
       "2024-09-26 03:00:00     overcast clouds  \n",
       "2024-09-26 06:00:00          light rain  \n",
       "2024-09-26 09:00:00     overcast clouds  \n",
       "2024-09-26 12:00:00     overcast clouds  \n",
       "2024-09-26 15:00:00          light rain  \n",
       "2024-09-26 18:00:00          light rain  \n",
       "2024-09-26 21:00:00          light rain  \n",
       "2024-09-27 00:00:00          light rain  \n",
       "2024-09-27 03:00:00          light rain  \n",
       "2024-09-27 06:00:00          light rain  \n",
       "2024-09-27 09:00:00     overcast clouds  \n",
       "2024-09-27 12:00:00     overcast clouds  \n",
       "2024-09-27 15:00:00     overcast clouds  \n",
       "2024-09-27 18:00:00     overcast clouds  \n",
       "2024-09-27 21:00:00     overcast clouds  \n",
       "2024-09-28 00:00:00     overcast clouds  \n",
       "2024-09-28 03:00:00     overcast clouds  \n",
       "2024-09-28 06:00:00     overcast clouds  \n",
       "2024-09-28 09:00:00          light rain  \n",
       "2024-09-28 12:00:00     overcast clouds  \n",
       "2024-09-28 15:00:00     overcast clouds  \n",
       "2024-09-28 18:00:00     overcast clouds  \n",
       "2024-09-28 21:00:00     overcast clouds  \n",
       "2024-09-29 00:00:00     overcast clouds  \n",
       "2024-09-29 03:00:00     overcast clouds  \n",
       "2024-09-29 06:00:00     overcast clouds  \n",
       "2024-09-29 09:00:00     overcast clouds  \n",
       "2024-09-29 12:00:00     overcast clouds  \n",
       "2024-09-29 15:00:00     overcast clouds  \n",
       "2024-09-29 18:00:00     overcast clouds  \n",
       "2024-09-29 21:00:00     overcast clouds  \n",
       "2024-09-30 00:00:00     overcast clouds  \n",
       "2024-09-30 03:00:00     overcast clouds  \n",
       "2024-09-30 06:00:00     overcast clouds  \n",
       "2024-09-30 09:00:00     overcast clouds  "
      ]
     },
     "execution_count": 36,
     "metadata": {},
     "output_type": "execute_result"
    }
   ],
   "source": [
    "weather_df"
   ]
  },
  {
   "cell_type": "markdown",
   "id": "da9aea0d",
   "metadata": {},
   "source": [
    "### __Task 5: Perform data modeling to analyze weather patterns, such as calculating average temperature, maximum/minimum values, or trends over time.__"
   ]
  },
  {
   "cell_type": "code",
   "execution_count": 11,
   "id": "8b658487",
   "metadata": {},
   "outputs": [],
   "source": [
    "\n",
    "# Calculate total precipitation (rain + snow) for each entry\n",
    "precipitation = []\n",
    "for entry in weather_data:\n",
    " rain = entry.get(\"rain\", {}).get(\"3h\", 0)\n",
    " snow = entry.get(\"snow\", {}).get(\"3h\", 0)\n",
    " total_precipitation = rain + snow\n",
    " precipitation.append(total_precipitation)\n"
   ]
  },
  {
   "cell_type": "code",
   "execution_count": 38,
   "id": "dbcd4267",
   "metadata": {},
   "outputs": [
    {
     "data": {
      "text/plain": [
       "[0,\n",
       " 0,\n",
       " 0,\n",
       " 0.12,\n",
       " 0.13,\n",
       " 0,\n",
       " 0.12,\n",
       " 0,\n",
       " 0,\n",
       " 0.17,\n",
       " 0.38,\n",
       " 0.97,\n",
       " 0.19,\n",
       " 0.16,\n",
       " 0.42,\n",
       " 0,\n",
       " 0,\n",
       " 0,\n",
       " 0,\n",
       " 0,\n",
       " 0,\n",
       " 0,\n",
       " 0,\n",
       " 0.15,\n",
       " 0,\n",
       " 0,\n",
       " 0,\n",
       " 0,\n",
       " 0,\n",
       " 0,\n",
       " 0,\n",
       " 0,\n",
       " 0,\n",
       " 0,\n",
       " 0,\n",
       " 0,\n",
       " 0,\n",
       " 0,\n",
       " 0,\n",
       " 0]"
      ]
     },
     "execution_count": 38,
     "metadata": {},
     "output_type": "execute_result"
    }
   ],
   "source": [
    "precipitation"
   ]
  },
  {
   "cell_type": "code",
   "execution_count": 12,
   "id": "63ce9ffc",
   "metadata": {},
   "outputs": [
    {
     "data": {
      "text/plain": [
       "25.01799999999999"
      ]
     },
     "execution_count": 12,
     "metadata": {},
     "output_type": "execute_result"
    }
   ],
   "source": [
    "# Step 5: Perform data modeling\n",
    "avg_temp = sum(temperatures) / len(temperatures)\n",
    "avg_temp\n"
   ]
  },
  {
   "cell_type": "code",
   "execution_count": 13,
   "id": "330dfd4a",
   "metadata": {},
   "outputs": [
    {
     "data": {
      "text/plain": [
       "30.42"
      ]
     },
     "execution_count": 13,
     "metadata": {},
     "output_type": "execute_result"
    }
   ],
   "source": [
    "max_temp = max(temperatures)\n",
    "max_temp\n"
   ]
  },
  {
   "cell_type": "code",
   "execution_count": 14,
   "id": "fcaacac3",
   "metadata": {},
   "outputs": [
    {
     "data": {
      "text/plain": [
       "21.38"
      ]
     },
     "execution_count": 14,
     "metadata": {},
     "output_type": "execute_result"
    }
   ],
   "source": [
    "min_temp = min(temperatures)\n",
    "min_temp"
   ]
  },
  {
   "cell_type": "markdown",
   "id": "e5b03c4c",
   "metadata": {},
   "source": [
    "### __Task 6: Visualize the weather data using appropriate plots, such as line charts, bar plots, or scatter plots, to represent temperature changes, precipitation levels, or wind speed variations.__"
   ]
  },
  {
   "cell_type": "code",
   "execution_count": 15,
   "id": "6d5bd6f1",
   "metadata": {},
   "outputs": [],
   "source": [
    "import matplotlib.pyplot as plt\n",
    "daily_mean_temp = weather_df['Temperature'].resample('D').mean()\n",
    "daily_mean_humidity = weather_df['humidity'].resample('D').mean()\n",
    "daily_mean_wind_speed = weather_df['wind_speed'].resample('D').mean()\n"
   ]
  },
  {
   "cell_type": "code",
   "execution_count": 16,
   "id": "88f0a5d2",
   "metadata": {},
   "outputs": [
    {
     "data": {
      "image/png": "[encoded data removed]",
      "text/plain": [
       "<Figure size 720x432 with 1 Axes>"
      ]
     },
     "metadata": {
      "needs_background": "light"
     },
     "output_type": "display_data"
    }
   ],
   "source": [
    "# Plot the mean daily temperature over time (Line plot)\n",
    "plt.figure(figsize=(10, 6))\n",
    "daily_mean_temp.plot(color='red', linestyle='-', marker='o')\n",
    "plt.title('Mean Daily Temperature')\n",
    "plt.xlabel('Date')\n",
    "plt.ylabel('Temperature (°C)')\n",
    "plt.grid(True)\n",
    "plt.show()\n"
   ]
  },
  {
   "cell_type": "markdown",
   "id": "6c00a559",
   "metadata": {},
   "source": [
    "### __Task 7: Apply data aggregation techniques to summarize weather statistics by specific time periods (e.g., daily, monthly, seasonal).__"
   ]
  },
  {
   "cell_type": "code",
   "execution_count": 17,
   "id": "725a3e74",
   "metadata": {},
   "outputs": [
    {
     "data": {
      "image/png": "[encoded data removed]",
      "text/plain": [
       "<Figure size 720x432 with 1 Axes>"
      ]
     },
     "metadata": {
      "needs_background": "light"
     },
     "output_type": "display_data"
    }
   ],
   "source": [
    "\n",
    "# Plot the mean daily humidity over time (Bar plot)\n",
    "plt.figure(figsize=(10, 6))\n",
    "daily_mean_humidity.plot(kind='bar', color='blue')\n",
    "plt.title('Mean Daily Humidity')\n",
    "plt.xlabel('Date')\n",
    "plt.ylabel('Humidity (%)')\n",
    "plt.grid(True)\n",
    "plt.show()\n"
   ]
  },
  {
   "cell_type": "code",
   "execution_count": 18,
   "id": "7ae53961",
   "metadata": {},
   "outputs": [
    {
     "data": {
      "image/png": "[encoded data removed]",
      "text/plain": [
       "<Figure size 720x432 with 1 Axes>"
      ]
     },
     "metadata": {
      "needs_background": "light"
     },
     "output_type": "display_data"
    }
   ],
   "source": [
    "# Plot the relationship between temperature and wind speed (Scatter plot)\n",
    "plt.figure(figsize=(10, 6))\n",
    "plt.scatter(weather_df['Temperature'], weather_df['wind_speed'], color='green')\n",
    "plt.title('Temperature vs. Wind Speed')\n",
    "plt.xlabel('Temperature (°C)')\n",
    "plt.ylabel('Wind Speed (m/s)')\n",
    "plt.grid(True)\n",
    "plt.show()\n"
   ]
  },
  {
   "cell_type": "markdown",
   "id": "f60a3513",
   "metadata": {},
   "source": [
    "### __Task 8: Incorporate geographical information, if available, to create maps or geospatial visualizations representing weather patterns across different locations.__"
   ]
  },
  {
   "cell_type": "code",
   "execution_count": 35,
   "id": "aac3d8d5",
   "metadata": {},
   "outputs": [
    {
     "name": "stderr",
     "output_type": "stream",
     "text": [
      "C:\\Users\\Student\\AppData\\Local\\Temp\\ipykernel_13844\\2321873009.py:39: FutureWarning: The frame.append method is deprecated and will be removed from pandas in a future version. Use pandas.concat instead.\n",
      "  weather_df = weather_df.append(location_df, ignore_index=True)\n"
     ]
    },
    {
     "name": "stdout",
     "output_type": "stream",
     "text": [
      "  Location  Temperature  Humidity  Wind Speed  Latitude  Longitude\n",
      "0     Pune        31.99        54        3.61   18.5196    73.8553\n",
      "1   Mumbai        32.99        55        3.09   19.0144    72.8479\n",
      "2   Nashik        28.88        56        4.25   19.9833    73.8000\n"
     ]
    }
   ],
   "source": [
    "# Assuming weather_data is a list of weather data entries\n",
    "# Accessing the attributes of the first entry\n",
    "import pandas as pd\n",
    "# Specify the locations for which you want to retrieve weather data\n",
    "locations = ['Pune', 'Mumbai', 'Nashik']\n",
    "# Create an empty DataFrame to store weather data\n",
    "weather_df = pd.DataFrame()\n",
    "# Retrieve weather data for each location\n",
    "for location in locations:\n",
    "    # Construct the API URL\n",
    "    api_url = f'http://api.openweathermap.org/data/2.5/weather?q={location}&appid={api_key}&units=metric'\n",
    "    \n",
    "    # Make the API request\n",
    "    response = requests.get(api_url)\n",
    "    data = response.json()\n",
    "    \n",
    "    # Check if the request was successful\n",
    "    if response.status_code == 200:\n",
    "        # Extract relevant weather attributes\n",
    "        temperature = data['main']['temp']\n",
    "        humidity = data['main']['humidity']\n",
    "        wind_speed = data['wind']['speed']\n",
    "        \n",
    "        # Check if 'coord' key is present before accessing it\n",
    "        latitude = data.get('coord', {}).get('lat', None)\n",
    "        longitude = data.get('coord', {}).get('lon', None)\n",
    "        \n",
    "        # Create a DataFrame for the current location's weather data\n",
    "        location_df = pd.DataFrame({\n",
    "            'Location': [location],\n",
    "            'Temperature': [temperature],\n",
    "            'Humidity': [humidity],\n",
    "            'Wind Speed': [wind_speed],\n",
    "            'Latitude': [latitude],\n",
    "            'Longitude': [longitude]\n",
    "        })\n",
    "        \n",
    "        # Append the current location's weather data to the main DataFrame\n",
    "        weather_df = weather_df.append(location_df, ignore_index=True)\n",
    "    else:\n",
    "        print(f\"Error retrieving data for {location}: {data['message']}\")\n",
    "\n",
    "# Display the final DataFrame\n",
    "print(weather_df)"
   ]
  },
  {
   "cell_type": "code",
   "execution_count": 37,
   "id": "9aae1fa9",
   "metadata": {},
   "outputs": [
    {
     "data": {
      "text/html": [
       "<div style=\"width:100%;\"><div style=\"position:relative;width:100%;height:0;padding-bottom:60%;\"><span style=\"color:#565656\">Make this Notebook Trusted to load map: File -> Trust Notebook</span><iframe srcdoc=\"&lt;!DOCTYPE html&gt;\n",
       "&lt;html&gt;\n",
       "&lt;head&gt;\n",
       "    \n",
       "    &lt;meta http-equiv=&quot;content-type&quot; content=&quot;text/html; charset=UTF-8&quot; /&gt;\n",
       "    \n",
       "        &lt;script&gt;\n",
       "            L_NO_TOUCH = false;\n",
       "            L_DISABLE_3D = false;\n",
       "        &lt;/script&gt;\n",
       "    \n",
       "    &lt;style&gt;html, body {width: 100%;height: 100%;margin: 0;padding: 0;}&lt;/style&gt;\n",
       "    &lt;style&gt;#map {position:absolute;top:0;bottom:0;right:0;left:0;}&lt;/style&gt;\n",
       "    &lt;script src=&quot;https://cdn.jsdelivr.net/npm/leaflet@1.9.3/dist/leaflet.js&quot;&gt;&lt;/script&gt;\n",
       "    &lt;script src=&quot;https://code.jquery.com/jquery-3.7.1.min.js&quot;&gt;&lt;/script&gt;\n",
       "    &lt;script src=&quot;https://cdn.jsdelivr.net/npm/bootstrap@5.2.2/dist/js/bootstrap.bundle.min.js&quot;&gt;&lt;/script&gt;\n",
       "    &lt;script src=&quot;https://cdnjs.cloudflare.com/ajax/libs/Leaflet.awesome-markers/2.0.2/leaflet.awesome-markers.js&quot;&gt;&lt;/script&gt;\n",
       "    &lt;link rel=&quot;stylesheet&quot; href=&quot;https://cdn.jsdelivr.net/npm/leaflet@1.9.3/dist/leaflet.css&quot;/&gt;\n",
       "    &lt;link rel=&quot;stylesheet&quot; href=&quot;https://cdn.jsdelivr.net/npm/bootstrap@5.2.2/dist/css/bootstrap.min.css&quot;/&gt;\n",
       "    &lt;link rel=&quot;stylesheet&quot; href=&quot;https://netdna.bootstrapcdn.com/bootstrap/3.0.0/css/bootstrap-glyphicons.css&quot;/&gt;\n",
       "    &lt;link rel=&quot;stylesheet&quot; href=&quot;https://cdn.jsdelivr.net/npm/@fortawesome/fontawesome-free@6.2.0/css/all.min.css&quot;/&gt;\n",
       "    &lt;link rel=&quot;stylesheet&quot; href=&quot;https://cdnjs.cloudflare.com/ajax/libs/Leaflet.awesome-markers/2.0.2/leaflet.awesome-markers.css&quot;/&gt;\n",
       "    &lt;link rel=&quot;stylesheet&quot; href=&quot;https://cdn.jsdelivr.net/gh/python-visualization/folium/folium/templates/leaflet.awesome.rotate.min.css&quot;/&gt;\n",
       "    \n",
       "            &lt;meta name=&quot;viewport&quot; content=&quot;width=device-width,\n",
       "                initial-scale=1.0, maximum-scale=1.0, user-scalable=no&quot; /&gt;\n",
       "            &lt;style&gt;\n",
       "                #map_652bd54bc68a22c8e9a5e2da5f1854ca {\n",
       "                    position: relative;\n",
       "                    width: 100.0%;\n",
       "                    height: 100.0%;\n",
       "                    left: 0.0%;\n",
       "                    top: 0.0%;\n",
       "                }\n",
       "                .leaflet-container { font-size: 1rem; }\n",
       "            &lt;/style&gt;\n",
       "        \n",
       "&lt;/head&gt;\n",
       "&lt;body&gt;\n",
       "    \n",
       "    \n",
       "            &lt;div class=&quot;folium-map&quot; id=&quot;map_652bd54bc68a22c8e9a5e2da5f1854ca&quot; &gt;&lt;/div&gt;\n",
       "        \n",
       "&lt;/body&gt;\n",
       "&lt;script&gt;\n",
       "    \n",
       "    \n",
       "            var map_652bd54bc68a22c8e9a5e2da5f1854ca = L.map(\n",
       "                &quot;map_652bd54bc68a22c8e9a5e2da5f1854ca&quot;,\n",
       "                {\n",
       "                    center: [19.9833, 73.8],\n",
       "                    crs: L.CRS.EPSG3857,\n",
       "                    zoom: 10,\n",
       "                    zoomControl: true,\n",
       "                    preferCanvas: false,\n",
       "                }\n",
       "            );\n",
       "\n",
       "            \n",
       "\n",
       "        \n",
       "    \n",
       "            var tile_layer_917c4c9a6a8e5a46fd793251a2c90285 = L.tileLayer(\n",
       "                &quot;https://tile.openstreetmap.org/{z}/{x}/{y}.png&quot;,\n",
       "                {&quot;attribution&quot;: &quot;\\u0026copy; \\u003ca href=\\&quot;https://www.openstreetmap.org/copyright\\&quot;\\u003eOpenStreetMap\\u003c/a\\u003e contributors&quot;, &quot;detectRetina&quot;: false, &quot;maxNativeZoom&quot;: 19, &quot;maxZoom&quot;: 19, &quot;minZoom&quot;: 0, &quot;noWrap&quot;: false, &quot;opacity&quot;: 1, &quot;subdomains&quot;: &quot;abc&quot;, &quot;tms&quot;: false}\n",
       "            );\n",
       "        \n",
       "    \n",
       "            tile_layer_917c4c9a6a8e5a46fd793251a2c90285.addTo(map_652bd54bc68a22c8e9a5e2da5f1854ca);\n",
       "        \n",
       "    \n",
       "            var marker_02005f9eee577e4d918bec0717001d04 = L.marker(\n",
       "                [18.5196, 73.8553],\n",
       "                {}\n",
       "            ).addTo(map_652bd54bc68a22c8e9a5e2da5f1854ca);\n",
       "        \n",
       "    \n",
       "        var popup_13774bdb7aa48c866127f204643cca1f = L.popup({&quot;maxWidth&quot;: &quot;100%&quot;});\n",
       "\n",
       "        \n",
       "            \n",
       "                var html_a3ca5be3c2d31bec82c790025a953745 = $(`&lt;div id=&quot;html_a3ca5be3c2d31bec82c790025a953745&quot; style=&quot;width: 100.0%; height: 100.0%;&quot;&gt;Pune&lt;/div&gt;`)[0];\n",
       "                popup_13774bdb7aa48c866127f204643cca1f.setContent(html_a3ca5be3c2d31bec82c790025a953745);\n",
       "            \n",
       "        \n",
       "\n",
       "        marker_02005f9eee577e4d918bec0717001d04.bindPopup(popup_13774bdb7aa48c866127f204643cca1f)\n",
       "        ;\n",
       "\n",
       "        \n",
       "    \n",
       "    \n",
       "            var marker_bcf2fa97b7149cc205b9ba1d23fc2139 = L.marker(\n",
       "                [19.0144, 72.8479],\n",
       "                {}\n",
       "            ).addTo(map_652bd54bc68a22c8e9a5e2da5f1854ca);\n",
       "        \n",
       "    \n",
       "        var popup_bd078906e57adfea50146ae95a0af031 = L.popup({&quot;maxWidth&quot;: &quot;100%&quot;});\n",
       "\n",
       "        \n",
       "            \n",
       "                var html_40bcea62a2454b7f1565f8c092bc81a1 = $(`&lt;div id=&quot;html_40bcea62a2454b7f1565f8c092bc81a1&quot; style=&quot;width: 100.0%; height: 100.0%;&quot;&gt;Mumbai&lt;/div&gt;`)[0];\n",
       "                popup_bd078906e57adfea50146ae95a0af031.setContent(html_40bcea62a2454b7f1565f8c092bc81a1);\n",
       "            \n",
       "        \n",
       "\n",
       "        marker_bcf2fa97b7149cc205b9ba1d23fc2139.bindPopup(popup_bd078906e57adfea50146ae95a0af031)\n",
       "        ;\n",
       "\n",
       "        \n",
       "    \n",
       "    \n",
       "            var marker_ad9b4828196e20e48947317cef7411fb = L.marker(\n",
       "                [19.9833, 73.8],\n",
       "                {}\n",
       "            ).addTo(map_652bd54bc68a22c8e9a5e2da5f1854ca);\n",
       "        \n",
       "    \n",
       "        var popup_5617b2a7d75a861f32a344d24021e8d6 = L.popup({&quot;maxWidth&quot;: &quot;100%&quot;});\n",
       "\n",
       "        \n",
       "            \n",
       "                var html_508bbae41bbca65bda0a9b32a41ec786 = $(`&lt;div id=&quot;html_508bbae41bbca65bda0a9b32a41ec786&quot; style=&quot;width: 100.0%; height: 100.0%;&quot;&gt;Nashik&lt;/div&gt;`)[0];\n",
       "                popup_5617b2a7d75a861f32a344d24021e8d6.setContent(html_508bbae41bbca65bda0a9b32a41ec786);\n",
       "            \n",
       "        \n",
       "\n",
       "        marker_ad9b4828196e20e48947317cef7411fb.bindPopup(popup_5617b2a7d75a861f32a344d24021e8d6)\n",
       "        ;\n",
       "\n",
       "        \n",
       "    \n",
       "    \n",
       "            tile_layer_917c4c9a6a8e5a46fd793251a2c90285.addTo(map_652bd54bc68a22c8e9a5e2da5f1854ca);\n",
       "        \n",
       "    \n",
       "            var marker_d407659a6130c38153b97db4d3842a6d = L.marker(\n",
       "                [19.9833, 73.8],\n",
       "                {}\n",
       "            ).addTo(map_652bd54bc68a22c8e9a5e2da5f1854ca);\n",
       "        \n",
       "    \n",
       "        var popup_18a6c5561e8e75699d4e4ac12bd60eb6 = L.popup({&quot;maxWidth&quot;: &quot;100%&quot;});\n",
       "\n",
       "        \n",
       "            \n",
       "                var html_76e0a20f417c30e07bfdecb8d27e1374 = $(`&lt;div id=&quot;html_76e0a20f417c30e07bfdecb8d27e1374&quot; style=&quot;width: 100.0%; height: 100.0%;&quot;&gt;Nashik&lt;/div&gt;`)[0];\n",
       "                popup_18a6c5561e8e75699d4e4ac12bd60eb6.setContent(html_76e0a20f417c30e07bfdecb8d27e1374);\n",
       "            \n",
       "        \n",
       "\n",
       "        marker_d407659a6130c38153b97db4d3842a6d.bindPopup(popup_18a6c5561e8e75699d4e4ac12bd60eb6)\n",
       "        ;\n",
       "\n",
       "        \n",
       "    \n",
       "    \n",
       "            tile_layer_917c4c9a6a8e5a46fd793251a2c90285.addTo(map_652bd54bc68a22c8e9a5e2da5f1854ca);\n",
       "        \n",
       "    \n",
       "            var marker_8c64adb54c8b0149f3f31b8040019650 = L.marker(\n",
       "                [19.9833, 73.8],\n",
       "                {}\n",
       "            ).addTo(map_652bd54bc68a22c8e9a5e2da5f1854ca);\n",
       "        \n",
       "    \n",
       "        var popup_e8e82f05e6b379783b4871820fce5fb7 = L.popup({&quot;maxWidth&quot;: &quot;100%&quot;});\n",
       "\n",
       "        \n",
       "            \n",
       "                var html_7e470852a483738598b58dfa64cb7bcd = $(`&lt;div id=&quot;html_7e470852a483738598b58dfa64cb7bcd&quot; style=&quot;width: 100.0%; height: 100.0%;&quot;&gt;Nashik&lt;/div&gt;`)[0];\n",
       "                popup_e8e82f05e6b379783b4871820fce5fb7.setContent(html_7e470852a483738598b58dfa64cb7bcd);\n",
       "            \n",
       "        \n",
       "\n",
       "        marker_8c64adb54c8b0149f3f31b8040019650.bindPopup(popup_e8e82f05e6b379783b4871820fce5fb7)\n",
       "        ;\n",
       "\n",
       "        \n",
       "    \n",
       "    \n",
       "            tile_layer_917c4c9a6a8e5a46fd793251a2c90285.addTo(map_652bd54bc68a22c8e9a5e2da5f1854ca);\n",
       "        \n",
       "&lt;/script&gt;\n",
       "&lt;/html&gt;\" style=\"position:absolute;width:100%;height:100%;left:0;top:0;border:none !important;\" allowfullscreen webkitallowfullscreen mozallowfullscreen></iframe></div></div>"
      ],
      "text/plain": [
       "<folium.folium.Map at 0x1a2bf368910>"
      ]
     },
     "execution_count": 37,
     "metadata": {},
     "output_type": "execute_result"
    }
   ],
   "source": [
    "weather_map"
   ]
  },
  {
   "cell_type": "code",
   "execution_count": 38,
   "id": "27124273",
   "metadata": {},
   "outputs": [],
   "source": [
    "# Step 8: Incorporate geographical information\n",
    "# (Geospatial visualization requires additional libraries like Folium)\n",
    "# Extract latitude and longitude from the current weather data\n",
    "latitude = data.get(\"coord\", {}).get(\"lat\", 0)\n",
    "longitude = data.get(\"coord\", {}).get(\"lon\", 0)\n",
    "# Create a Folium map centered around the city\n",
    "weather_map = folium.Map(location=[latitude, longitude], zoom_start=10)\n",
    "# Add markers for each location in the DataFrame\n",
    "for index, row in weather_df.iterrows():\n",
    " location_name = row['Location']\n",
    " latitude = row['Latitude']\n",
    " longitude = row['Longitude']\n",
    " # Create a marker and add it to the map\n",
    " folium.Marker([latitude, longitude], popup=location_name).add_to(weather_map)\n"
   ]
  },
  {
   "cell_type": "code",
   "execution_count": 36,
   "id": "62dfd980",
   "metadata": {},
   "outputs": [],
   "source": [
    "# Add a marker for the city's location\n",
    "folium.Marker([latitude, longitude], popup=city_name).add_to(weather_map)\n",
    "# Display the map\n",
    "weather_map.save(\"weather_map.html\")"
   ]
  },
  {
   "cell_type": "markdown",
   "id": "7467ecb6",
   "metadata": {},
   "source": [
    "### __Task 9: Explore and visualize relationships between weather attributes, such as temperature and humidity, using correlation plots or heatmaps__"
   ]
  },
  {
   "cell_type": "code",
   "execution_count": 21,
   "id": "ec22e265",
   "metadata": {},
   "outputs": [
    {
     "data": {
      "image/png": "[encoded data removed]",
      "text/plain": [
       "<Figure size 720x432 with 1 Axes>"
      ]
     },
     "metadata": {
      "needs_background": "light"
     },
     "output_type": "display_data"
    }
   ],
   "source": [
    "# Step 6: Visualize the weather data\n",
    "plt.figure(figsize=(10, 6))\n",
    "plt.plot(timestamps, temperatures, label=\"Temperature (°C)\")\n",
    "plt.plot(timestamps, precipitation, label=\"Precipitation\")\n",
    "plt.xlabel(\"Timestamp\")\n",
    "plt.ylabel(\"Value\")\n",
    "plt.title(\"Weather Data for {}\".format(city_name))\n",
    "plt.legend()\n",
    "plt.show()\n"
   ]
  },
  {
   "cell_type": "code",
   "execution_count": 22,
   "id": "0faf42d8",
   "metadata": {},
   "outputs": [
    {
     "data": {
      "image/png": "[encoded data removed]",
      "text/plain": [
       "<Figure size 432x288 with 2 Axes>"
      ]
     },
     "metadata": {
      "needs_background": "light"
     },
     "output_type": "display_data"
    },
    {
     "data": {
      "image/png": "[encoded data removed]",
      "text/plain": [
       "<Figure size 432x288 with 1 Axes>"
      ]
     },
     "metadata": {
      "needs_background": "light"
     },
     "output_type": "display_data"
    }
   ],
   "source": [
    "import seaborn as sns\n",
    "heatmap_data = weather_df[['Temperature', 'humidity']]\n",
    "sns.heatmap(heatmap_data, annot=True, cmap='coolwarm')\n",
    "plt.title('Temperature vs Humidity Heatmap')\n",
    "plt.show()\n",
    "# Create a scatter plot to visualize the relationship between temperature and humid\n",
    "plt.scatter(weather_df['Temperature'], weather_df['humidity'])\n",
    "plt.xlabel('Temperature (°C)')\n",
    "plt.ylabel('Humidity (%)')\n",
    "plt.title('Temperature vs Humidity Scatter Plot')\n",
    "plt.show()"
   ]
  }
 ],
 "metadata": {
  "kernelspec": {
   "display_name": "Python 3 (ipykernel)",
   "language": "python",
   "name": "python3"
  },
  "language_info": {
   "codemirror_mode": {
    "name": "ipython",
    "version": 3
   },
   "file_extension": ".py",
   "mimetype": "text/x-python",
   "name": "python",
   "nbconvert_exporter": "python",
   "pygments_lexer": "ipython3",
   "version": "3.9.12"
  }
 },
 "nbformat": 4,
 "nbformat_minor": 5
}
